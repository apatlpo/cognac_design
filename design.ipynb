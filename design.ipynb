{
 "cells": [
  {
   "cell_type": "markdown",
   "metadata": {},
   "source": [
    "# float design\n",
    "\n",
    "Explore float design with simple model\n",
    "\n",
    "\n",
    "[binder](https://mybinder.org/v2/gh/apatlpo/cognac_design/master?urlpath=%2Fpanel%2Fdesign)\n",
    "\n",
    "\n",
    "https://mybinder.org/v2/gh/panel-demos/gapminder/master?urlpath=/proxy/5006/gapminder\n",
    "\n",
    "not working:\n",
    "\n",
    "[binder no%2F](https://mybinder.org/v2/gh/apatlpo/cognac_design/master?urlpath=design)\n",
    "\n"
   ]
  },
  {
   "cell_type": "code",
   "execution_count": 1,
   "metadata": {},
   "outputs": [],
   "source": [
    "import panel as pn\n",
    "#pn.extension('plotly')\n",
    "\n",
    "import design as fds"
   ]
  },
  {
   "cell_type": "code",
   "execution_count": 2,
   "metadata": {},
   "outputs": [
    {
     "name": "stderr",
     "output_type": "stream",
     "text": [
      "/Users/aponte/code/cognac_design/design.py:364: RuntimeWarning: invalid value encountered in sqrt\n",
      "  p['radius'] = np.sqrt(h['length']/p['length'] * Gamma) * h['radius']\n",
      "/Users/aponte/code/cognac_design/design.py:403: RuntimeWarning: invalid value encountered in sqrt\n",
      "  'y': np.sqrt(Gamma)*h['radius']*1e2}\n"
     ]
    }
   ],
   "source": [
    "f = fds.ufloat()"
   ]
  },
  {
   "cell_type": "code",
   "execution_count": 3,
   "metadata": {},
   "outputs": [
    {
     "name": "stdout",
     "output_type": "stream",
     "text": [
      "Launching server at http://localhost:64241\n"
     ]
    },
    {
     "data": {
      "text/plain": [
       "<bokeh.server.server.Server at 0x113b05c40>"
      ]
     },
     "execution_count": 3,
     "metadata": {},
     "output_type": "execute_result"
    }
   ],
   "source": [
    "#f.panel\n",
    "#f.panel().show(); # in separate window\n",
    "f.panel().servable();"
   ]
  },
  {
   "cell_type": "code",
   "execution_count": 4,
   "metadata": {},
   "outputs": [],
   "source": [
    "#! panel serve --show --port 5009 design.ipynb"
   ]
  },
  {
   "cell_type": "code",
   "execution_count": null,
   "metadata": {},
   "outputs": [],
   "source": []
  }
 ],
 "metadata": {
  "kernelspec": {
   "display_name": "Python 3",
   "language": "python",
   "name": "python3"
  },
  "language_info": {
   "codemirror_mode": {
    "name": "ipython",
    "version": 3
   },
   "file_extension": ".py",
   "mimetype": "text/x-python",
   "name": "python",
   "nbconvert_exporter": "python",
   "pygments_lexer": "ipython3",
   "version": "3.8.5"
  }
 },
 "nbformat": 4,
 "nbformat_minor": 4
}
